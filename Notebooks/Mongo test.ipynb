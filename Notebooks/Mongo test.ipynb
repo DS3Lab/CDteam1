{
 "cells": [
  {
   "cell_type": "code",
   "execution_count": 14,
   "metadata": {
    "collapsed": true
   },
   "outputs": [],
   "source": [
    "from pymongo import MongoClient\n",
    "import urllib"
   ]
  },
  {
   "cell_type": "markdown",
   "metadata": {},
   "source": [
    "https://api.mongodb.com/python/current/tutorial.html"
   ]
  },
  {
   "cell_type": "code",
   "execution_count": 15,
   "metadata": {
    "collapsed": true
   },
   "outputs": [],
   "source": [
    "raw_pass = '' # Add password here!\n",
    "url = \"mongodb://CDteam1:\" + urllib.quote_plus(raw_pass) + \"@spaceml4.ethz.ch:27017/CDteam1DB\"\n",
    "client = MongoClient(url)\n",
    "db = client.CDteam1DB"
   ]
  },
  {
   "cell_type": "code",
   "execution_count": 16,
   "metadata": {},
   "outputs": [
    {
     "name": "stdout",
     "output_type": "stream",
     "text": [
      "{u'key2': u'value 2', u'key1': u'value 1', u'_id': ObjectId('5b1562c7b77ed51a2e295c9f')}\n",
      "{u'_id': ObjectId('5b15695f82576d0bf00b9b57'), u'key': u'value'}\n"
     ]
    }
   ],
   "source": [
    "for obj in db.foo.find():\n",
    "    print obj"
   ]
  }
 ],
 "metadata": {
  "kernelspec": {
   "display_name": "Python 2",
   "language": "python",
   "name": "python2"
  },
  "language_info": {
   "codemirror_mode": {
    "name": "ipython",
    "version": 2
   },
   "file_extension": ".py",
   "mimetype": "text/x-python",
   "name": "python",
   "nbconvert_exporter": "python",
   "pygments_lexer": "ipython2",
   "version": "2.7.10"
  }
 },
 "nbformat": 4,
 "nbformat_minor": 2
}
