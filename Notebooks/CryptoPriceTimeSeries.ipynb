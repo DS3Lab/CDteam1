{
 "cells": [
  {
   "cell_type": "code",
   "execution_count": 10,
   "metadata": {},
   "outputs": [],
   "source": [
    "from cryptocmd import CmcScraper\n",
    "from pymarketcap import Pymarketcap\n",
    "from coinmarketcap import Market\n",
    "import numpy as np\n",
    "import pandas as pd"
   ]
  },
  {
   "cell_type": "code",
   "execution_count": 11,
   "metadata": {},
   "outputs": [],
   "source": [
    "def get_cryptoMat(n):\n",
    "    coinmarketcap = Market()\n",
    "    tick=coinmarketcap.ticker(start=0, limit=n, convert='USD')\n",
    "    crypto_mat=np.matrix([[0],[0],[0]])\n",
    "    for i in range(n):\n",
    "        crypto_mat=np.concatenate((crypto_mat,np.matrix([[tick[i]['id']],[tick[i]['name']],\n",
    "                                                         [tick[i]['symbol']]])),axis=1)\n",
    "    crypto_mat=crypto_mat.T[1:]\n",
    "    crypto_name_df=pd.DataFrame(crypto_mat)\n",
    "    crypto_name_df.columns=['id','name','symbol']\n",
    "    return crypto_name_df"
   ]
  },
  {
   "cell_type": "code",
   "execution_count": 18,
   "metadata": {},
   "outputs": [],
   "source": [
    "CryptoDictionarydf=get_cryptoMat(1600)\n",
    "CryptoDictionarydf.to_csv(\"CryptoVocab.csv\",index=False)"
   ]
  },
  {
   "cell_type": "code",
   "execution_count": null,
   "metadata": {},
   "outputs": [],
   "source": []
  }
 ],
 "metadata": {
  "kernelspec": {
   "display_name": "Python 3",
   "language": "python",
   "name": "python3"
  },
  "language_info": {
   "codemirror_mode": {
    "name": "ipython",
    "version": 3
   },
   "file_extension": ".py",
   "mimetype": "text/x-python",
   "name": "python",
   "nbconvert_exporter": "python",
   "pygments_lexer": "ipython3",
   "version": "3.6.3"
  }
 },
 "nbformat": 4,
 "nbformat_minor": 2
}
